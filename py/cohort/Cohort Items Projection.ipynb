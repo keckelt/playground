{
 "cells": [
  {
   "cell_type": "code",
   "execution_count": 1,
   "metadata": {},
   "outputs": [],
   "source": [
    "\n",
    "\n",
    "#plots the figures in place instead of a new window\n",
    "%matplotlib inline\n",
    "\n",
    "import matplotlib.pyplot as plt\n",
    "import seaborn as sns\n",
    "\n",
    "import pandas as pd\n",
    "import numpy as np\n",
    "\n",
    "import io\n",
    "import requests\n",
    "\n",
    "from timeit import default_timer as timer\n",
    "from sklearn.manifold import TSNE\n",
    "\n",
    "import altair as alt\n",
    "# for the notebook only (not for JupyterLab) run this command once per session\n",
    "#alt.renderers.enable('notebook')\n",
    "alt.data_transformers.disable_max_rows()\n",
    "\n",
    "from umap import UMAP\n",
    "\n"
   ]
  },
  {
   "cell_type": "markdown",
   "metadata": {},
   "source": [
    "# Cohorts"
   ]
  },
  {
   "cell_type": "code",
   "execution_count": 2,
   "metadata": {},
   "outputs": [],
   "source": [
    "n = 12334\n",
    "all = [1] * 12334\n",
    "known_mutation_state = [1] * 6795 + [0] * 5539\n",
    "mutated = [1] * 473 + [0] * (n - 473)\n",
    "non_mutated = [0] * 473 + [1] * 6322 + [0] * (n-473-6322)\n",
    "\n",
    "mutated_colon = [1] * 57 + [0] * (n-57)\n",
    "mutated_lung = [0] * 57 + [1] * 75 + [0] * (n-57-75)\n",
    "mutated_pancreas = [0] * (57+75) + [1] * 136 + [0] * (n-57-75-136)"
   ]
  },
  {
   "cell_type": "code",
   "execution_count": 3,
   "metadata": {},
   "outputs": [
    {
     "data": {
      "text/plain": [
       "12334"
      ]
     },
     "execution_count": 3,
     "metadata": {},
     "output_type": "execute_result"
    }
   ],
   "source": [
    "len(mutated_pancreas)"
   ]
  },
  {
   "cell_type": "code",
   "execution_count": 4,
   "metadata": {},
   "outputs": [],
   "source": [
    "items_in_cohorts = [all, non_mutated, mutated, mutated_colon, mutated_lung, mutated_pancreas]"
   ]
  },
  {
   "cell_type": "markdown",
   "metadata": {},
   "source": [
    "# UMAP"
   ]
  },
  {
   "cell_type": "code",
   "execution_count": 59,
   "metadata": {},
   "outputs": [],
   "source": [
    "scores_umap = UMAP(n_components=2, n_neighbors=4).fit_transform(items_in_cohorts)"
   ]
  },
  {
   "cell_type": "code",
   "execution_count": 93,
   "metadata": {},
   "outputs": [
    {
     "data": {
      "application/vnd.vegalite.v3+json": {
       "$schema": "https://vega.github.io/schema/vega-lite/v3.4.0.json",
       "config": {
        "mark": {
         "tooltip": null
        },
        "view": {
         "height": 300,
         "width": 400
        }
       },
       "data": {
        "name": "data-22839023bdf409d4ceeb77487bbed12a"
       },
       "datasets": {
        "data-22839023bdf409d4ceeb77487bbed12a": [
         {
          "A": 5.053279876708984,
          "B": -10.440226554870605,
          "cohort": "all"
         },
         {
          "A": 4.691505432128906,
          "B": -11.192301750183105,
          "cohort": "non_mutated"
         },
         {
          "A": 6.477086544036865,
          "B": -11.151313781738281,
          "cohort": "mutated"
         },
         {
          "A": 6.27015495300293,
          "B": -12.617194175720215,
          "cohort": "mutated_colon"
         },
         {
          "A": 5.812373638153076,
          "B": -11.974776268005371,
          "cohort": "mutated_lung"
         },
         {
          "A": 6.814566612243652,
          "B": -11.907713890075684,
          "cohort": "mutated_pancreas"
         }
        ]
       },
       "encoding": {
        "color": {
         "field": "cohort",
         "type": "nominal"
        },
        "tooltip": {
         "field": "cohort",
         "type": "nominal"
        },
        "x": {
         "field": "B",
         "scale": {
          "zero": false
         },
         "type": "quantitative"
        },
        "y": {
         "field": "A",
         "scale": {
          "zero": false
         },
         "type": "quantitative"
        }
       },
       "height": 300,
       "mark": "circle",
       "selection": {
        "selector058": {
         "bind": "scales",
         "encodings": [
          "x",
          "y"
         ],
         "type": "interval"
        }
       },
       "width": 300
      },
      "image/png": "[encoded data removed]",
      "text/plain": [
       "<VegaLite 3 object>\n",
       "\n",
       "If you see this message, it means the renderer has not been properly enabled\n",
       "for the frontend that you are using. For more information, see\n",
       "https://altair-viz.github.io/user_guide/troubleshooting.html\n"
      ]
     },
     "execution_count": 93,
     "metadata": {},
     "output_type": "execute_result"
    }
   ],
   "source": [
    "scores_umap = UMAP(n_components=2, n_neighbors=4).fit_transform(items_in_cohorts)\n",
    "df_umap_scores = pd.DataFrame(scores_umap, columns=['A','B'])\n",
    "df_umap_scores = pd.concat([df_umap_scores, pd.DataFrame(['all', 'non_mutated', 'mutated', 'mutated_colon', 'mutated_lung', 'mutated_pancreas'], columns=['cohort'])], axis='columns')\n",
    "\n",
    "alt.Chart(df_umap_scores).mark_circle(\n",
    "#    opacity=0.6,\n",
    "#    tooltip=alt.TooltipContent('encoding')\n",
    ").encode(\n",
    "    alt.Y('A:Q', scale=alt.Scale(zero=False)),\n",
    "    alt.X('B:Q', scale=alt.Scale(zero=False)),\n",
    "    color='cohort:N',\n",
    "    tooltip='cohort:N'\n",
    ").properties(\n",
    "    width=300, # per plot; see https://altair-viz.github.io/user_guide/configuration.html#view-configuration\n",
    "    height=300\n",
    ").interactive()"
   ]
  },
  {
   "cell_type": "code",
   "execution_count": null,
   "metadata": {},
   "outputs": [],
   "source": []
  }
 ],
 "metadata": {
  "kernelspec": {
   "display_name": "Python 3",
   "language": "python",
   "name": "python3"
  },
  "language_info": {
   "codemirror_mode": {
    "name": "ipython",
    "version": 3
   },
   "file_extension": ".py",
   "mimetype": "text/x-python",
   "name": "python",
   "nbconvert_exporter": "python",
   "pygments_lexer": "ipython3",
   "version": "3.7.5"
  }
 },
 "nbformat": 4,
 "nbformat_minor": 4
}
